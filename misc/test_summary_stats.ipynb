{
 "cells": [
  {
   "cell_type": "code",
   "execution_count": 1,
   "metadata": {
    "collapsed": false
   },
   "outputs": [],
   "source": [
    "import datetime\n",
    "import ebaysdk\n",
    "from ebaysdk.exception import ConnectionError\n",
    "from ebaysdk.finding import Connection\n"
   ]
  },
  {
   "cell_type": "code",
   "execution_count": 6,
   "metadata": {
    "collapsed": true
   },
   "outputs": [],
   "source": [
    "import pandas as pd\n",
    "import numpy as np"
   ]
  },
  {
   "cell_type": "code",
   "execution_count": 5,
   "metadata": {
    "collapsed": false
   },
   "outputs": [
    {
     "name": "stdout",
     "output_type": "stream",
     "text": [
      "{'itemId': '152099100801', 'isMultiVariationListing': 'false', 'topRatedListing': 'false', 'globalId': 'EBAY-US', 'title': 'Supreme Arc Crewneck Grey Red Betty Cdg Box Logo Pink Motion Size M', 'country': 'US', 'shippingInfo': {'expeditedShipping': 'true', 'shipToLocations': 'Worldwide', 'shippingServiceCost': {'_currencyId': 'USD', 'value': '0.0'}, 'oneDayShippingAvailable': 'false', 'handlingTime': '1', 'shippingType': 'Free'}, 'galleryURL': 'http://thumbs2.ebaystatic.com/m/mipIFWL9Se7X9dVI2vJ_FeQ/140.jpg', 'autoPay': 'true', 'location': 'Astoria,NY,USA', 'postalCode': '11106', 'returnsAccepted': 'false', 'viewItemURL': 'http://www.ebay.com/itm/Supreme-Arc-Crewneck-Grey-Red-Betty-Cdg-Box-Logo-Pink-Motion-Size-M-/152099100801', 'sellingStatus': {'currentPrice': {'_currencyId': 'USD', 'value': '105.0'}, 'convertedCurrentPrice': {'_currencyId': 'USD', 'value': '105.0'}, 'sellingState': 'EndedWithoutSales'}, 'paymentMethod': 'PayPal', 'primaryCategory': {'categoryId': '11484', 'categoryName': 'Sweaters'}, 'condition': {'conditionId': '1000', 'conditionDisplayName': 'New with tags'}, 'listingInfo': {'listingType': 'FixedPrice', 'gift': 'false', 'bestOfferEnabled': 'false', 'startTime': datetime.datetime(2016, 5, 22, 0, 57, 21), 'buyItNowAvailable': 'false', 'endTime': datetime.datetime(2016, 6, 13, 20, 56, 33)}}\n",
      "\n",
      "{'itemId': '222148839518', 'isMultiVariationListing': 'false', 'topRatedListing': 'false', 'globalId': 'EBAY-US', 'title': 'Supreme SS16 Arc Logo Longsleeve Crewneck Grey SOLD OUT Size Medium IN HAND', 'country': 'US', 'shippingInfo': {'expeditedShipping': 'false', 'shipToLocations': ['US', 'CA', 'GB', 'AU', 'AT', 'BE', 'FR', 'DE', 'IT', 'JP', 'ES', 'TW', 'NL', 'CN', 'HK', 'MX', 'DK', 'RO', 'SK', 'BG', 'CZ', 'FI', 'HU', 'LV', 'LT', 'MT', 'EE', 'GR', 'PT', 'CY', 'SI', 'SE', 'KR', 'ID', 'ZA', 'TH', 'IE', 'PL', 'RU', 'IL'], 'shippingServiceCost': {'_currencyId': 'USD', 'value': '0.0'}, 'oneDayShippingAvailable': 'false', 'handlingTime': '3', 'shippingType': 'FlatDomesticCalculatedInternational'}, 'galleryURL': 'http://thumbs3.ebaystatic.com/m/mYK3bJAEEfTMcPuiM9BdFOg/140.jpg', 'autoPay': 'true', 'location': 'New York,NY,USA', 'postalCode': '10003', 'returnsAccepted': 'false', 'viewItemURL': 'http://www.ebay.com/itm/Supreme-SS16-Arc-Logo-Longsleeve-Crewneck-Grey-SOLD-OUT-Size-Medium-HAND-/222148839518', 'sellingStatus': {'currentPrice': {'_currencyId': 'USD', 'value': '85.0'}, 'convertedCurrentPrice': {'_currencyId': 'USD', 'value': '85.0'}, 'sellingState': 'EndedWithSales'}, 'paymentMethod': 'PayPal', 'primaryCategory': {'categoryId': '57988', 'categoryName': 'Coats & Jackets'}, 'condition': {'conditionId': '1000', 'conditionDisplayName': 'New with tags'}, 'listingInfo': {'listingType': 'FixedPrice', 'gift': 'false', 'bestOfferEnabled': 'true', 'startTime': datetime.datetime(2016, 6, 10, 21, 8, 51), 'buyItNowAvailable': 'false', 'endTime': datetime.datetime(2016, 6, 12, 13, 50, 5)}}\n",
      "\n",
      "{'itemId': '322140112580', 'isMultiVariationListing': 'false', 'topRatedListing': 'false', 'globalId': 'EBAY-US', 'title': 'Supreme North Face Backpack Steep Tech arc box logo crossover crewneck tee hoody', 'country': 'US', 'shippingInfo': {'expeditedShipping': 'false', 'shipToLocations': ['US', 'CA', 'GB', 'AU', 'AT', 'BE', 'FR', 'DE', 'IT', 'JP', 'ES', 'TW', 'NL', 'CN', 'HK', 'MX', 'DK', 'RO', 'SK', 'BG', 'CZ', 'FI', 'HU', 'LV', 'LT', 'MT', 'EE', 'GR', 'PT', 'CY', 'SI', 'SE', 'KR', 'ID', 'ZA', 'TH', 'IE', 'PL', 'RU', 'IL'], 'shippingServiceCost': {'_currencyId': 'USD', 'value': '0.0'}, 'oneDayShippingAvailable': 'false', 'handlingTime': '3', 'shippingType': 'FlatDomesticCalculatedInternational'}, 'galleryURL': 'http://thumbs1.ebaystatic.com/m/mz48rujs6ZGqCzoALDcux-A/140.jpg', 'autoPay': 'false', 'location': 'Chino Hills,CA,USA', 'postalCode': '91709', 'returnsAccepted': 'false', 'viewItemURL': 'http://www.ebay.com/itm/Supreme-North-Face-Backpack-Steep-Tech-arc-box-logo-crossover-crewneck-tee-hoody-/322140112580', 'sellingStatus': {'currentPrice': {'_currencyId': 'USD', 'value': '202.5'}, 'convertedCurrentPrice': {'_currencyId': 'USD', 'value': '202.5'}, 'bidCount': '14', 'sellingState': 'EndedWithSales'}, 'paymentMethod': 'PayPal', 'primaryCategory': {'categoryId': '52357', 'categoryName': 'Backpacks, Bags & Briefcases'}, 'condition': {'conditionId': '1000', 'conditionDisplayName': 'New with tags'}, 'listingInfo': {'listingType': 'Auction', 'gift': 'false', 'bestOfferEnabled': 'false', 'startTime': datetime.datetime(2016, 6, 7, 3, 31, 28), 'buyItNowAvailable': 'false', 'endTime': datetime.datetime(2016, 6, 12, 3, 31, 28)}}\n"
     ]
    }
   ],
   "source": [
    "api = Connection(appid='JeffreyC-Streetwe-PRD-f2f871c7c-922e659d', config_file=None)\n",
    "response = api.execute('findCompletedItems', {'keywords': 'supreme arc logo crewneck'})\n",
    "\n",
    "assert(response.reply.ack == 'Success')\n",
    "assert(type(response.reply.timestamp) == datetime.datetime)\n",
    "assert(type(response.reply.searchResult.item) == list)\n",
    "\n",
    "item1 = response.reply.searchResult.item[1]\n",
    "item2 = response.reply.searchResult.item[2]\n",
    "item3 = response.reply.searchResult.item[3]\n",
    "\n",
    "print item1\n",
    "print \"\"\n",
    "print item2\n",
    "print \"\"\n",
    "print item3"
   ]
  },
  {
   "cell_type": "code",
   "execution_count": 8,
   "metadata": {
    "collapsed": false
   },
   "outputs": [],
   "source": [
    "# things we can break down an item sale by: \n",
    "# - currentPrice -> sellingState: 'EndedWithoutSales' | 'EndedWithSales'\n",
    "# - condition -> conditionId, conditionDisplayName\n",
    "# - endTime"
   ]
  },
  {
   "cell_type": "code",
   "execution_count": 21,
   "metadata": {
    "collapsed": false
   },
   "outputs": [
    {
     "name": "stdout",
     "output_type": "stream",
     "text": [
      "202.5\n"
     ]
    }
   ],
   "source": [
    "print item3.sellingStatus.convertedCurrentPrice.value"
   ]
  },
  {
   "cell_type": "code",
   "execution_count": 22,
   "metadata": {
    "collapsed": false
   },
   "outputs": [
    {
     "data": {
      "text/plain": [
       "list"
      ]
     },
     "execution_count": 22,
     "metadata": {},
     "output_type": "execute_result"
    }
   ],
   "source": [
    "type(response.reply.searchResult.item)"
   ]
  },
  {
   "cell_type": "code",
   "execution_count": null,
   "metadata": {
    "collapsed": false
   },
   "outputs": [],
   "source": []
  },
  {
   "cell_type": "code",
   "execution_count": null,
   "metadata": {
    "collapsed": true
   },
   "outputs": [],
   "source": []
  }
 ],
 "metadata": {
  "kernelspec": {
   "display_name": "Python 2",
   "language": "python",
   "name": "python2"
  },
  "language_info": {
   "codemirror_mode": {
    "name": "ipython",
    "version": 2
   },
   "file_extension": ".py",
   "mimetype": "text/x-python",
   "name": "python",
   "nbconvert_exporter": "python",
   "pygments_lexer": "ipython2",
   "version": "2.7.10"
  }
 },
 "nbformat": 4,
 "nbformat_minor": 0
}
